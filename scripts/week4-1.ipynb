{
 "cells": [
  {
   "cell_type": "markdown",
   "metadata": {},
   "source": [
    "<h2 align=\"center\">The Battle of Neighborhoods</h2>\n"
   ]
  },
  {
   "cell_type": "markdown",
   "metadata": {},
   "source": [
    "<h4>Week 4 : Part a </h4>\n",
    "    \n",
    "<h3>Title : Restaurants types in Toronto compared to New York</h3>"
   ]
  },
  {
   "cell_type": "markdown",
   "metadata": {},
   "source": [
    "<h4>Problem background :</h4>"
   ]
  },
  {
   "cell_type": "markdown",
   "metadata": {},
   "source": [
    "Toronto in Canada and New york in United States of America are very diverse and are the financial capitals of their respective countries. Both the cities so diverse that the number of immigrents setteled in their respective states are very high compared to other cities in their respective contries. \n",
    "\n",
    "The diversity of the cuisine available will reflect the social and economic diversity of the cities. As people always tend to get attracted to try different variety of cuisine as a result of that the economy of the city increases so does the job opportunity. Immigrents always tends to get settled in a place where they have at lease one of their cuisine restaurent. So here we are comparing Toronto to New york restarunts."
   ]
  },
  {
   "cell_type": "markdown",
   "metadata": {},
   "source": [
    "<h4>Problem description :</h4>"
   ]
  },
  {
   "cell_type": "markdown",
   "metadata": {},
   "source": [
    "Anyone who wants to visit a place the very first thing they will check is the availability of restaurants that serves the food according to their restrictions or the different variety of food they can try and different cuisine availibility. Food is the main factor for anyone to visit a country or stay in the country for a long time or to immigrate to the country. If the food is not good or lacking the number of tourist of immigrents will reduce as it is one of the key factor.\n",
    "\n",
    "Here we are going to take a city of Toronto in Canada and compare it with New York which has highest number of cuisines and immigrents United States of America to identify the missing cusines in Toronto to attract more number of immigrents to get settled in Toronto.\n",
    "\n",
    "There are few questions to be addressed such as :\n",
    "How many resturants are already available in Toronto?\n",
    "How many variety of cuisines are available in  Toronto?\n",
    "Where are the resturants located at?\n",
    "Do they have multiple resturants on the same cuisine?\n",
    "\n",
    "There are few questions to be answered such as :\n",
    "How many more different varity of resturants available in New york which is not available in Toronto?\n",
    "How many similar cuisines available in both the cities and their counts?\n",
    "How close each resturants are?\n",
    "\n"
   ]
  },
  {
   "cell_type": "markdown",
   "metadata": {},
   "source": [
    "<h4>Target audience :</h4>"
   ]
  },
  {
   "cell_type": "markdown",
   "metadata": {},
   "source": [
    "Target audiences for this project does not limit to the people who wants to immigrate or travel to Toronto but anyone who is interested to know about the diversity of food available in Toronto and New york and anyone who is looking to open a resturant in either of Toronto or New york can use this project to find what type of cuisine is not available in the respective cities and what kind of new cuisine they can bring to the cities to attract more people."
   ]
  },
  {
   "cell_type": "markdown",
   "metadata": {},
   "source": [
    "<h4>Success rate : </h4>"
   ]
  },
  {
   "cell_type": "markdown",
   "metadata": {},
   "source": [
    "With new resturants evolving in market everyday having same variety of food nearby will not bring much success to the business. Now a days there are more number of hibrid resturants which offers multiple cuisines. So it is very important to know what kind of business is already present more in an area and how to start different type of cuisine to attract more tourists or immigrents or even locals to try something new or from their home food.  So people who tends to start a business or try to immigrate will always care about this project. "
   ]
  },
  {
   "cell_type": "code",
   "execution_count": null,
   "metadata": {},
   "outputs": [],
   "source": []
  }
 ],
 "metadata": {
  "kernelspec": {
   "display_name": "Python 3",
   "language": "python",
   "name": "python3"
  },
  "language_info": {
   "codemirror_mode": {
    "name": "ipython",
    "version": 3
   },
   "file_extension": ".py",
   "mimetype": "text/x-python",
   "name": "python",
   "nbconvert_exporter": "python",
   "pygments_lexer": "ipython3",
   "version": "3.8.5"
  }
 },
 "nbformat": 4,
 "nbformat_minor": 4
}
