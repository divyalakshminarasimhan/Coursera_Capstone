{
 "cells": [
  {
   "cell_type": "markdown",
   "metadata": {},
   "source": [
    "<h2 align='center'>The battle of Neighborhoods</h2>"
   ]
  },
  {
   "cell_type": "markdown",
   "metadata": {},
   "source": [
    "<h4>Week 4 : Part b</h4>\n",
    "\n",
    "<h3>Title : Restaurants types in Toronto compared to New York</h3>"
   ]
  },
  {
   "cell_type": "markdown",
   "metadata": {},
   "source": [
    "<h4>Data requirements :</h4>"
   ]
  },
  {
   "cell_type": "markdown",
   "metadata": {},
   "source": [
    "To find a solution to the questions we need a data to find the number of resturants available in each cities. Then we need to analyze and compare these data to find the solution.\n",
    "\n",
    "Let's consider the base scenario :\n",
    "\n",
    "Suppose i want to find a restaurants, then logically, i need 3 things :\n",
    "\n",
    "Its geographical coordinates(latitide and longitude) to find of each cities.\n",
    "Then we need a map to show where these resturants are located at.\n",
    "We need imformation of each resturants and what kind of cuisines they offer.\n",
    "\n",
    "\n",
    "Lets take a closer look at each of these :\n",
    "\n",
    "To access location of a restaurant in Toronto, we need its Latitude and Longitude so that we can point at its coordinates and create a map displaying all the restaurants with its labels respectively. Once we have the map we need to find the cuisine of each resturant and add the total number of resturants with the similar cuisine. We now need to get the same kind information of New york so that we can compare it with the Toronto to find what kind of cuisine Toronto is missing."
   ]
  },
  {
   "cell_type": "markdown",
   "metadata": {},
   "source": [
    "<h4>Data collection :</h4>"
   ]
  },
  {
   "cell_type": "markdown",
   "metadata": {},
   "source": [
    "Collecting the geographical cordinates we are going to use geopy and geopy.geocoders use  Nominatim to get our latitude and longitude for the respective cities. It is very simple and easy compared to other way of getting the location.\n",
    "\n",
    "We are using foursquare API to find the resturants available on the specific latitude and longitude and we are going to input the category id as \"4d4b7105d754a06374d81259\" the id for food catogery to get the catagory type in the response. By inputing the catogory id we get the cuisine type in response in categories field. We are going to use this to determine the cuisine type.\n",
    "\n",
    "We are going to use Follium map package to flood the map with the data for both location of New york and toronto so that the user can actually see the location of each resturants. By clicking on the blue dot of the map they can see which type of cuisine the resturant is serving.\n",
    "\n",
    "Finally i am data visualization tool bar so that the user can see cuisines and their number of count of availibility in New york and Toronto. "
   ]
  },
  {
   "cell_type": "code",
   "execution_count": null,
   "metadata": {},
   "outputs": [],
   "source": []
  }
 ],
 "metadata": {
  "kernelspec": {
   "display_name": "Python 3",
   "language": "python",
   "name": "python3"
  },
  "language_info": {
   "codemirror_mode": {
    "name": "ipython",
    "version": 3
   },
   "file_extension": ".py",
   "mimetype": "text/x-python",
   "name": "python",
   "nbconvert_exporter": "python",
   "pygments_lexer": "ipython3",
   "version": "3.8.5"
  }
 },
 "nbformat": 4,
 "nbformat_minor": 4
}
